{
 "cells": [
  {
   "cell_type": "code",
   "execution_count": 1,
   "metadata": {},
   "outputs": [],
   "source": [
    "public interface IntBag{\n",
    "    void addItem(int item);\n",
    "    int countOccur(int item);\n",
    "    boolean remove(int item);\n",
    "    int size();\n",
    "}"
   ]
  },
  {
   "cell_type": "code",
   "execution_count": 2,
   "metadata": {},
   "outputs": [],
   "source": [
    "import java.util.Arrays;\n",
    "import java.util.stream.Collectors;\n",
    "\n",
    "public class IntArrayBag implements IntBag {\n",
    "    public static int INITIAL_CAPACITY=100;\n",
    "\n",
    "    private int[] data;\n",
    "    private int manyItems;\n",
    "\n",
    "    public IntArrayBag() {\n",
    "        data = new int[INITIAL_CAPACITY];\n",
    "        manyItems = 0;\n",
    "    }\n",
    "\n",
    "    public IntArrayBag(int capacity) {\n",
    "        data = new int[capacity];\n",
    "        manyItems = 0;\n",
    "    }\n",
    "\n",
    "    @Override\n",
    "    public void addItem(int item) {\n",
    "        data[manyItems++] = item;\n",
    "    }\n",
    "\n",
    "    @Override\n",
    "    public int countOccur(int item) {\n",
    "        return (int) Arrays.stream(data).filter(elem->elem==item).count();\n",
    "    }\n",
    "\n",
    "    @Override\n",
    "    public boolean remove(int item) {\n",
    "        int current=0;\n",
    "        while(current<manyItems && data[current]!=item) {\n",
    "            current++;\n",
    "            if(current==manyItems) return false;\n",
    "        }\n",
    "        while(current<manyItems-1){\n",
    "            data[current] = data[current+1];\n",
    "            current++;\n",
    "        }\n",
    "        manyItems--;\n",
    "        return true;\n",
    "    }\n",
    "\n",
    "    public boolean removeFast(int item){\n",
    "        int current=0;\n",
    "        while(current<manyItems && data[current]!=item){\n",
    "            current++;\n",
    "            if(current==manyItems) return false;\n",
    "        }\n",
    "        data[current] = data[--manyItems];\n",
    "        return true;\n",
    "    }\n",
    "\n",
    "    @Override\n",
    "    public int size() {\n",
    "        return data.length;\n",
    "    }\n",
    "\n",
    "    @Override\n",
    "    public String toString() {\n",
    "        return \"IntArrayBag{\" +\n",
    "                \"data=\" + Arrays.toString(data) +\n",
    "                \", manyItems=\" + manyItems +\n",
    "                '}';\n",
    "    }\n",
    "\n",
    "    // for testing\n",
    "    public int[] getData() {\n",
    "        return data;\n",
    "    }\n",
    "\n",
    "    // for testing\n",
    "    public void print() {\n",
    "        System.out.println(\n",
    "                Arrays.stream(data).limit(manyItems).mapToObj(String::valueOf).collect(Collectors.joining(\",\", \"[\", \"]\"))\n",
    "        );\n",
    "    }\n",
    "}"
   ]
  },
  {
   "cell_type": "markdown",
   "metadata": {},
   "source": [
    "## Test"
   ]
  },
  {
   "cell_type": "code",
   "execution_count": 3,
   "metadata": {},
   "outputs": [],
   "source": [
    "IntBag bag = new IntArrayBag(10);"
   ]
  },
  {
   "cell_type": "code",
   "execution_count": 4,
   "metadata": {},
   "outputs": [
    {
     "name": "stdout",
     "output_type": "stream",
     "text": [
      "10\r\n"
     ]
    }
   ],
   "source": [
    "System.out.println(bag.size());"
   ]
  },
  {
   "cell_type": "code",
   "execution_count": 5,
   "metadata": {},
   "outputs": [],
   "source": [
    "int[] data = ((IntArrayBag) bag).getData();"
   ]
  },
  {
   "cell_type": "code",
   "execution_count": 6,
   "metadata": {},
   "outputs": [
    {
     "name": "stdout",
     "output_type": "stream",
     "text": [
      "[0,6,7,3,4,0,0,9,8,8]\r\n"
     ]
    }
   ],
   "source": [
    "import java.util.stream.*;\n",
    "import java.util.Random;\n",
    "\n",
    "Random random = new Random(1753);\n",
    "IntStream.range(0, 10).forEach(i -> bag.addItem(random.nextInt(10)));\n",
    "\n",
    "((IntArrayBag) bag).print();"
   ]
  },
  {
   "cell_type": "code",
   "execution_count": 7,
   "metadata": {},
   "outputs": [
    {
     "name": "stdout",
     "output_type": "stream",
     "text": [
      "1\r\n"
     ]
    }
   ],
   "source": [
    "System.out.println(bag.countOccur(7))"
   ]
  },
  {
   "cell_type": "code",
   "execution_count": 8,
   "metadata": {},
   "outputs": [
    {
     "name": "stdout",
     "output_type": "stream",
     "text": [
      "[0,6,7,3,4,0,0,8,8]\r\n"
     ]
    }
   ],
   "source": [
    "bag.remove(9);\n",
    "((IntArrayBag) bag).print();"
   ]
  },
  {
   "cell_type": "markdown",
   "metadata": {},
   "source": [
    "## Measure Execution Time"
   ]
  },
  {
   "cell_type": "code",
   "execution_count": 21,
   "metadata": {},
   "outputs": [],
   "source": [
    "long timeIt(Runnable code) {\n",
    "    long start = System.nanoTime();\n",
    "    code.run();\n",
    "    return System.nanoTime()-start;\n",
    "}"
   ]
  },
  {
   "cell_type": "code",
   "execution_count": 22,
   "metadata": {},
   "outputs": [],
   "source": [
    "IntBag bag = new IntArrayBag(50000);\n",
    "\n",
    "Random random = new Random(1753);\n",
    "bag.addItem(999);\n",
    "IntStream.range(1, 49000).forEach(i -> bag.addItem(random.nextInt(10)));"
   ]
  },
  {
   "cell_type": "code",
   "execution_count": 25,
   "metadata": {},
   "outputs": [
    {
     "data": {
      "text/plain": [
       "1116300"
      ]
     },
     "execution_count": 25,
     "metadata": {},
     "output_type": "execute_result"
    }
   ],
   "source": [
    "timeIt(()->bag.remove(999));"
   ]
  },
  {
   "cell_type": "code",
   "execution_count": 26,
   "metadata": {},
   "outputs": [],
   "source": [
    "IntBag bag = new IntArrayBag(50000);\n",
    "\n",
    "Random random = new Random(1753);\n",
    "bag.addItem(999);\n",
    "IntStream.range(1, 49000).forEach(i -> bag.addItem(random.nextInt(10)));"
   ]
  },
  {
   "cell_type": "code",
   "execution_count": 27,
   "metadata": {},
   "outputs": [
    {
     "data": {
      "text/plain": [
       "19500"
      ]
     },
     "execution_count": 27,
     "metadata": {},
     "output_type": "execute_result"
    }
   ],
   "source": [
    "timeIt(()->((IntArrayBag) bag).removeFast(999));"
   ]
  }
 ],
 "metadata": {
  "kernelspec": {
   "display_name": "Java",
   "language": "java",
   "name": "java"
  },
  "language_info": {
   "codemirror_mode": "java",
   "file_extension": ".jshell",
   "mimetype": "text/x-java-source",
   "name": "Java",
   "pygments_lexer": "java",
   "version": "14.0.1+7"
  },
  "toc": {
   "base_numbering": 1,
   "nav_menu": {},
   "number_sections": true,
   "sideBar": true,
   "skip_h1_title": false,
   "title_cell": "Table of Contents",
   "title_sidebar": "Contents",
   "toc_cell": false,
   "toc_position": {},
   "toc_section_display": true,
   "toc_window_display": false
  },
  "varInspector": {
   "cols": {
    "lenName": 16,
    "lenType": 16,
    "lenVar": 40
   },
   "kernels_config": {
    "python": {
     "delete_cmd_postfix": "",
     "delete_cmd_prefix": "del ",
     "library": "var_list.py",
     "varRefreshCmd": "print(var_dic_list())"
    },
    "r": {
     "delete_cmd_postfix": ") ",
     "delete_cmd_prefix": "rm(",
     "library": "var_list.r",
     "varRefreshCmd": "cat(var_dic_list()) "
    }
   },
   "types_to_exclude": [
    "module",
    "function",
    "builtin_function_or_method",
    "instance",
    "_Feature"
   ],
   "window_display": false
  }
 },
 "nbformat": 4,
 "nbformat_minor": 4
}
