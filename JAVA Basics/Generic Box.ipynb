{
 "cells": [
  {
   "cell_type": "markdown",
   "metadata": {},
   "source": [
    "# IntBox"
   ]
  },
  {
   "cell_type": "code",
   "execution_count": 2,
   "metadata": {},
   "outputs": [],
   "source": [
    "public class IntBox{\n",
    "    int value;\n",
    "    \n",
    "    public IntBox(int value){\n",
    "        this.value = value;\n",
    "    }\n",
    "    \n",
    "    public int getValue(){\n",
    "        return value;\n",
    "    }\n",
    "}"
   ]
  },
  {
   "cell_type": "code",
   "execution_count": 3,
   "metadata": {},
   "outputs": [
    {
     "name": "stdout",
     "output_type": "stream",
     "text": [
      "1234\r\n"
     ]
    }
   ],
   "source": [
    "IntBox box = new IntBox(1234);\n",
    "int value = box.getValue();\n",
    "\n",
    "System.out.println(value);"
   ]
  },
  {
   "cell_type": "markdown",
   "metadata": {},
   "source": [
    "# StringBox"
   ]
  },
  {
   "cell_type": "code",
   "execution_count": 4,
   "metadata": {},
   "outputs": [],
   "source": [
    "public class StringBox {\n",
    "    String value;\n",
    "    \n",
    "    public StringBox(String value) {\n",
    "        this.value = value;\n",
    "    }\n",
    "    \n",
    "    public String getValue() {\n",
    "        return value;\n",
    "    }\n",
    "}"
   ]
  },
  {
   "cell_type": "code",
   "execution_count": 5,
   "metadata": {},
   "outputs": [
    {
     "name": "stdout",
     "output_type": "stream",
     "text": [
      "Yellow\r\n"
     ]
    }
   ],
   "source": [
    "StringBox box = new StringBox(\"Yellow\");\n",
    "String value = box.getValue();\n",
    "\n",
    "System.out.println(value);"
   ]
  },
  {
   "cell_type": "markdown",
   "metadata": {},
   "source": [
    "# ObjectBox"
   ]
  },
  {
   "cell_type": "code",
   "execution_count": 10,
   "metadata": {},
   "outputs": [],
   "source": [
    "public class ObjectBox {\n",
    "    Object value;\n",
    "    \n",
    "    public ObjectBox(Object value) {\n",
    "        this.value = value;\n",
    "    }\n",
    "    \n",
    "    public Object getValue() {\n",
    "        return value;\n",
    "    }\n",
    "}"
   ]
  },
  {
   "cell_type": "code",
   "execution_count": 11,
   "metadata": {},
   "outputs": [
    {
     "name": "stdout",
     "output_type": "stream",
     "text": [
      "YELLOW\r\n"
     ]
    }
   ],
   "source": [
    "ObjectBox box = new ObjectBox(\"Yellow\");\n",
    "String value = (String) box.getValue();\n",
    "\n",
    "System.out.println(value.toUpperCase());"
   ]
  },
  {
   "cell_type": "code",
   "execution_count": 15,
   "metadata": {},
   "outputs": [
    {
     "name": "stdout",
     "output_type": "stream",
     "text": [
      "1234\r\n"
     ]
    }
   ],
   "source": [
    "Integer value = (Integer) box.getValue();\n",
    "\n",
    "System.out.println(value);"
   ]
  },
  {
   "cell_type": "markdown",
   "metadata": {},
   "source": [
    "# Box< T >"
   ]
  },
  {
   "cell_type": "code",
   "execution_count": 13,
   "metadata": {},
   "outputs": [],
   "source": [
    "public class Box<T> {\n",
    "    T value;\n",
    "    \n",
    "    public Box(T value) {\n",
    "        this.value = value;\n",
    "    }\n",
    "    \n",
    "    public T getValue() {\n",
    "        return value;\n",
    "    }\n",
    "}"
   ]
  },
  {
   "cell_type": "code",
   "execution_count": 14,
   "metadata": {},
   "outputs": [
    {
     "name": "stdout",
     "output_type": "stream",
     "text": [
      "1234\r\n"
     ]
    }
   ],
   "source": [
    "Box<Integer> box = new Box(1234);\n",
    "Integer value = box.getValue();\n",
    "\n",
    "System.out.println(value);"
   ]
  },
  {
   "cell_type": "code",
   "execution_count": 16,
   "metadata": {},
   "outputs": [
    {
     "name": "stdout",
     "output_type": "stream",
     "text": [
      "YELLOW\r\n"
     ]
    }
   ],
   "source": [
    "Box<String> box = new Box(\"Yellow\");\n",
    "String value = box.getValue();\n",
    "\n",
    "System.out.println(value.toUpperCase());"
   ]
  },
  {
   "cell_type": "code",
   "execution_count": 17,
   "metadata": {},
   "outputs": [
    {
     "ename": "CompilationException",
     "evalue": "",
     "output_type": "error",
     "traceback": [
      "\u001b[1m\u001b[30m|   \u001b[1m\u001b[30mString value = \u001b[0m\u001b[1m\u001b[30m\u001b[41mbox.getValue()\u001b[0m\u001b[1m\u001b[30m;\u001b[0m",
      "\u001b[1m\u001b[31mincompatible types: java.lang.Integer cannot be converted to java.lang.String\u001b[0m",
      ""
     ]
    }
   ],
   "source": [
    "Box<Integer> box = new Box(1234);\n",
    "String value = box.getValue();\n",
    "\n",
    "System.out.println(value.toUpperCase());"
   ]
  }
 ],
 "metadata": {
  "kernelspec": {
   "display_name": "Java",
   "language": "java",
   "name": "java"
  },
  "language_info": {
   "codemirror_mode": "java",
   "file_extension": ".jshell",
   "mimetype": "text/x-java-source",
   "name": "Java",
   "pygments_lexer": "java",
   "version": "14.0.1+7"
  },
  "toc": {
   "base_numbering": 1,
   "nav_menu": {},
   "number_sections": true,
   "sideBar": true,
   "skip_h1_title": false,
   "title_cell": "Table of Contents",
   "title_sidebar": "Contents",
   "toc_cell": false,
   "toc_position": {},
   "toc_section_display": true,
   "toc_window_display": false
  },
  "varInspector": {
   "cols": {
    "lenName": 16,
    "lenType": 16,
    "lenVar": 40
   },
   "kernels_config": {
    "python": {
     "delete_cmd_postfix": "",
     "delete_cmd_prefix": "del ",
     "library": "var_list.py",
     "varRefreshCmd": "print(var_dic_list())"
    },
    "r": {
     "delete_cmd_postfix": ") ",
     "delete_cmd_prefix": "rm(",
     "library": "var_list.r",
     "varRefreshCmd": "cat(var_dic_list()) "
    }
   },
   "types_to_exclude": [
    "module",
    "function",
    "builtin_function_or_method",
    "instance",
    "_Feature"
   ],
   "window_display": false
  }
 },
 "nbformat": 4,
 "nbformat_minor": 4
}
