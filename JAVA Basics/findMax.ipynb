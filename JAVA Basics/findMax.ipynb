{
 "cells": [
  {
   "cell_type": "code",
   "execution_count": 1,
   "metadata": {},
   "outputs": [],
   "source": [
    "import java.util.Arrays;"
   ]
  },
  {
   "cell_type": "code",
   "execution_count": 7,
   "metadata": {},
   "outputs": [],
   "source": [
    "public class FindMax{\n",
    "    public static int arrayIntMax(int[] A){\n",
    "        int currentMax = A[0];\n",
    "        for(int i=1;i<A.length;i++){\n",
    "            if(A[i]>currentMax){\n",
    "                currentMax = A[i];\n",
    "            }\n",
    "        }\n",
    "        return currentMax;\n",
    "    }\n",
    "\n",
    "    public static int arrayIntMax2(int[] A){\n",
    "        return Arrays.stream(A).max().getAsInt();\n",
    "    }\n",
    "\n",
    "    public static double arrayDoubleMax(double[] A){\n",
    "        double currentMax = A[0];\n",
    "        for(int i=1;i<A.length;i++) {\n",
    "            if (A[i] > currentMax) {\n",
    "                currentMax = A[i];\n",
    "            }\n",
    "        }\n",
    "        return currentMax; \n",
    "    }\n",
    "    \n",
    "    public static String arrayStringMax(String[] A){\n",
    "        String currentMax = A[0];\n",
    "        for(int i=1;i<A.length;i++){\n",
    "            if(A[i].compareTo(currentMax)>0){\n",
    "                currentMax = A[i];\n",
    "            }\n",
    "        }\n",
    "        return currentMax;\n",
    "    }\n",
    "    \n",
    "    public static void main(String[] args){\n",
    "        int[] A = new int[]{5, 20, 1, 15, 5, 777, 4};\n",
    "        System.out.println(arrayIntMax(A));\n",
    "    }\n",
    "}"
   ]
  },
  {
   "cell_type": "markdown",
   "metadata": {},
   "source": [
    "## int type"
   ]
  },
  {
   "cell_type": "code",
   "execution_count": 9,
   "metadata": {},
   "outputs": [
    {
     "name": "stdout",
     "output_type": "stream",
     "text": [
      "777\r\n"
     ]
    }
   ],
   "source": [
    "FindMax.main(null)"
   ]
  },
  {
   "cell_type": "markdown",
   "metadata": {},
   "source": [
    "## double type"
   ]
  },
  {
   "cell_type": "code",
   "execution_count": 13,
   "metadata": {},
   "outputs": [],
   "source": [
    "double[] data = new double[]{5.0, 20, 1, 15, 5, 777, 4};"
   ]
  },
  {
   "cell_type": "code",
   "execution_count": 14,
   "metadata": {},
   "outputs": [
    {
     "ename": "CompilationException",
     "evalue": "",
     "output_type": "error",
     "traceback": [
      "\u001b[1m\u001b[30m|   \u001b[1m\u001b[30mFindMax.arrayIntMax(\u001b[0m\u001b[1m\u001b[30m\u001b[41mdata\u001b[0m\u001b[1m\u001b[30m)\u001b[0m",
      "\u001b[1m\u001b[31mincompatible types: double[] cannot be converted to int[]\u001b[0m",
      ""
     ]
    }
   ],
   "source": [
    "FindMax.arrayIntMax(data)"
   ]
  },
  {
   "cell_type": "code",
   "execution_count": 11,
   "metadata": {},
   "outputs": [
    {
     "data": {
      "text/plain": [
       "777.0"
      ]
     },
     "execution_count": 11,
     "metadata": {},
     "output_type": "execute_result"
    }
   ],
   "source": [
    "FindMax.arrayDoubleMax(data)"
   ]
  },
  {
   "cell_type": "markdown",
   "metadata": {},
   "source": [
    "## String type"
   ]
  },
  {
   "cell_type": "code",
   "execution_count": 18,
   "metadata": {},
   "outputs": [],
   "source": [
    "String[] data = { \"Hello\", \"Yellow\", \"Mello\" }"
   ]
  },
  {
   "cell_type": "code",
   "execution_count": 19,
   "metadata": {},
   "outputs": [
    {
     "ename": "CompilationException",
     "evalue": "",
     "output_type": "error",
     "traceback": [
      "\u001b[1m\u001b[30m|   \u001b[1m\u001b[30mFindMax.arrayIntMax(\u001b[0m\u001b[1m\u001b[30m\u001b[41mdata\u001b[0m\u001b[1m\u001b[30m)\u001b[0m",
      "\u001b[1m\u001b[31mincompatible types: java.lang.String[] cannot be converted to int[]\u001b[0m",
      ""
     ]
    }
   ],
   "source": [
    "FindMax.arrayIntMax(data)"
   ]
  },
  {
   "cell_type": "code",
   "execution_count": 20,
   "metadata": {},
   "outputs": [
    {
     "ename": "CompilationException",
     "evalue": "",
     "output_type": "error",
     "traceback": [
      "\u001b[1m\u001b[30m|   \u001b[1m\u001b[30mFindMax.arrayDoubleMax(\u001b[0m\u001b[1m\u001b[30m\u001b[41mdata\u001b[0m\u001b[1m\u001b[30m)\u001b[0m",
      "\u001b[1m\u001b[31mincompatible types: java.lang.String[] cannot be converted to double[]\u001b[0m",
      ""
     ]
    }
   ],
   "source": [
    "FindMax.arrayDoubleMax(data)"
   ]
  },
  {
   "cell_type": "code",
   "execution_count": 21,
   "metadata": {},
   "outputs": [
    {
     "data": {
      "text/plain": [
       "Yellow"
      ]
     },
     "execution_count": 21,
     "metadata": {},
     "output_type": "execute_result"
    }
   ],
   "source": [
    "FindMax.arrayStringMax(data)"
   ]
  }
 ],
 "metadata": {
  "kernelspec": {
   "display_name": "Java",
   "language": "java",
   "name": "java"
  },
  "language_info": {
   "codemirror_mode": "java",
   "file_extension": ".jshell",
   "mimetype": "text/x-java-source",
   "name": "Java",
   "pygments_lexer": "java",
   "version": "14.0.1+7"
  },
  "toc": {
   "base_numbering": 1,
   "nav_menu": {},
   "number_sections": true,
   "sideBar": true,
   "skip_h1_title": false,
   "title_cell": "Table of Contents",
   "title_sidebar": "Contents",
   "toc_cell": false,
   "toc_position": {},
   "toc_section_display": true,
   "toc_window_display": false
  },
  "varInspector": {
   "cols": {
    "lenName": 16,
    "lenType": 16,
    "lenVar": 40
   },
   "kernels_config": {
    "python": {
     "delete_cmd_postfix": "",
     "delete_cmd_prefix": "del ",
     "library": "var_list.py",
     "varRefreshCmd": "print(var_dic_list())"
    },
    "r": {
     "delete_cmd_postfix": ") ",
     "delete_cmd_prefix": "rm(",
     "library": "var_list.r",
     "varRefreshCmd": "cat(var_dic_list()) "
    }
   },
   "types_to_exclude": [
    "module",
    "function",
    "builtin_function_or_method",
    "instance",
    "_Feature"
   ],
   "window_display": false
  }
 },
 "nbformat": 4,
 "nbformat_minor": 4
}
