{
 "cells": [
  {
   "cell_type": "code",
   "execution_count": 1,
   "metadata": {},
   "outputs": [],
   "source": [
    "public class Car{\n",
    "    private static int count;\n",
    "    protected int odometer;\n",
    "    protected String make;\n",
    "\n",
    "    public Car(String make){\n",
    "        this.make = make;\n",
    "        ++count;\n",
    "    }\n",
    "\n",
    "    public int getOdometer() {\n",
    "        return odometer;\n",
    "    }\n",
    "\n",
    "    public String getMake() {\n",
    "        return make;\n",
    "    }\n",
    "\n",
    "    public void drive(int distance){\n",
    "        odometer += distance;\n",
    "    }\n",
    "\n",
    "    public static int getCount() {\n",
    "        return count;\n",
    "    }\n",
    "\n",
    "    @Override\n",
    "    public String toString() {\n",
    "        return String.format(\"Car[%s, %d]\", make, odometer);\n",
    "    }\n",
    "}"
   ]
  },
  {
   "cell_type": "code",
   "execution_count": 2,
   "metadata": {},
   "outputs": [],
   "source": [
    "public class SmartCar extends Car{\n",
    "    private String greeting;\n",
    "\n",
    "    public SmartCar(String make, String greeting) {\n",
    "        super(make);\n",
    "        this.greeting = greeting;\n",
    "    }\n",
    "\n",
    "    private void sayHello(){\n",
    "        System.out.println(greeting);\n",
    "    }\n",
    "\n",
    "    @Override\n",
    "    public void drive(int distance) {\n",
    "        sayHello();\n",
    "        super.drive(distance);\n",
    "    }\n",
    "\n",
    "    @Override\n",
    "    public String toString() {\n",
    "        return String.format(\"SmartCar[%s, %d]\", make, odometer);\n",
    "    }\n",
    "}"
   ]
  },
  {
   "cell_type": "markdown",
   "metadata": {},
   "source": [
    "## Test"
   ]
  },
  {
   "cell_type": "code",
   "execution_count": 3,
   "metadata": {},
   "outputs": [
    {
     "name": "stdout",
     "output_type": "stream",
     "text": [
      "SmartCar[Millenium, 0]\r\n"
     ]
    }
   ],
   "source": [
    "Car smartCar = new SmartCar(\"Millenium\", \"Welcome!\");\n",
    "System.out.println(smartCar);"
   ]
  },
  {
   "cell_type": "code",
   "execution_count": 4,
   "metadata": {},
   "outputs": [
    {
     "name": "stdout",
     "output_type": "stream",
     "text": [
      "Welcome!\r\n"
     ]
    }
   ],
   "source": [
    "smartCar.drive(777);"
   ]
  },
  {
   "cell_type": "code",
   "execution_count": 5,
   "metadata": {},
   "outputs": [
    {
     "name": "stdout",
     "output_type": "stream",
     "text": [
      "SmartCar[Millenium, 777]\r\n"
     ]
    }
   ],
   "source": [
    "System.out.println(smartCar);"
   ]
  },
  {
   "cell_type": "code",
   "execution_count": 6,
   "metadata": {},
   "outputs": [
    {
     "name": "stdout",
     "output_type": "stream",
     "text": [
      "make = Millenium\n",
      "count = 777\n"
     ]
    }
   ],
   "source": [
    "System.out.println(\"make = \" + smartCar.getMake());\n",
    "System.out.println(\"count = \" + smartCar.getOdometer());"
   ]
  },
  {
   "cell_type": "code",
   "execution_count": 7,
   "metadata": {},
   "outputs": [
    {
     "name": "stdout",
     "output_type": "stream",
     "text": [
      "count = 1\n",
      "count = 1\n"
     ]
    }
   ],
   "source": [
    "System.out.println(\"count = \" + Car.getCount());\n",
    "System.out.println(\"count = \" + smartCar.getCount());"
   ]
  },
  {
   "cell_type": "markdown",
   "metadata": {},
   "source": [
    "## Instance Methods vs Static Methods"
   ]
  },
  {
   "cell_type": "code",
   "execution_count": 8,
   "metadata": {},
   "outputs": [
    {
     "name": "stdout",
     "output_type": "stream",
     "text": [
      "Car[Ford, 0]\n",
      "Car[Ford, 1000]\n",
      "count = Ford\n",
      "count = 1000\n",
      "count = 2\n",
      "count = 2\n"
     ]
    }
   ],
   "source": [
    "Car ford = new Car(\"Ford\");\n",
    "System.out.println(ford);\n",
    "\n",
    "ford.drive(1000);\n",
    "\n",
    "System.out.println(ford);\n",
    "System.out.println(\"count = \" + ford.getMake());\n",
    "System.out.println(\"count = \" + ford.getOdometer());\n",
    "\n",
    "System.out.println(\"count = \" + Car.getCount());\n",
    "System.out.println(\"count = \" + ford.getCount());"
   ]
  },
  {
   "cell_type": "code",
   "execution_count": 9,
   "metadata": {},
   "outputs": [
    {
     "name": "stdout",
     "output_type": "stream",
     "text": [
      "Car[Ferrari, 0]\n",
      "Car[Ferrari, 3000]\n",
      "count = Ferrari\n",
      "count = 3000\n",
      "count = 3\n",
      "count = 3\n"
     ]
    }
   ],
   "source": [
    "Car ferrari = new Car(\"Ferrari\");\n",
    "System.out.println(ferrari);\n",
    "\n",
    "ferrari.drive(3000);\n",
    "\n",
    "System.out.println(ferrari);\n",
    "System.out.println(\"count = \" + ferrari.getMake());\n",
    "System.out.println(\"count = \" + ferrari.getOdometer());\n",
    "\n",
    "System.out.println(\"count = \" + Car.getCount());\n",
    "System.out.println(\"count = \" + ferrari.getCount());"
   ]
  },
  {
   "cell_type": "code",
   "execution_count": 10,
   "metadata": {},
   "outputs": [
    {
     "ename": "CompilationException",
     "evalue": "",
     "output_type": "error",
     "traceback": [
      "\u001b[1m\u001b[30m|   \u001b[1m\u001b[30m\u001b[0m\u001b[1m\u001b[30m\u001b[41mCar.drive\u001b[0m\u001b[1m\u001b[30m(5000);\u001b[0m",
      "\u001b[1m\u001b[31mnon-static method drive(int) cannot be referenced from a static context\u001b[0m",
      ""
     ]
    }
   ],
   "source": [
    "Car.drive(5000);"
   ]
  }
 ],
 "metadata": {
  "kernelspec": {
   "display_name": "Java",
   "language": "java",
   "name": "java"
  },
  "language_info": {
   "codemirror_mode": "java",
   "file_extension": ".jshell",
   "mimetype": "text/x-java-source",
   "name": "Java",
   "pygments_lexer": "java",
   "version": "14.0.1+7"
  },
  "toc": {
   "base_numbering": 1,
   "nav_menu": {},
   "number_sections": true,
   "sideBar": true,
   "skip_h1_title": false,
   "title_cell": "Table of Contents",
   "title_sidebar": "Contents",
   "toc_cell": false,
   "toc_position": {},
   "toc_section_display": true,
   "toc_window_display": false
  },
  "varInspector": {
   "cols": {
    "lenName": 16,
    "lenType": 16,
    "lenVar": 40
   },
   "kernels_config": {
    "python": {
     "delete_cmd_postfix": "",
     "delete_cmd_prefix": "del ",
     "library": "var_list.py",
     "varRefreshCmd": "print(var_dic_list())"
    },
    "r": {
     "delete_cmd_postfix": ") ",
     "delete_cmd_prefix": "rm(",
     "library": "var_list.r",
     "varRefreshCmd": "cat(var_dic_list()) "
    }
   },
   "types_to_exclude": [
    "module",
    "function",
    "builtin_function_or_method",
    "instance",
    "_Feature"
   ],
   "window_display": false
  }
 },
 "nbformat": 4,
 "nbformat_minor": 4
}
